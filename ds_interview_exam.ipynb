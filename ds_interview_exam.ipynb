{
  "cells": [
    {
      "cell_type": "markdown",
      "metadata": {
        "id": "view-in-github",
        "colab_type": "text"
      },
      "source": [
        "<a href=\"https://colab.research.google.com/github/sriva-e/Bombora-Data-Science-exam-/blob/main/ds_interview_exam.ipynb\" target=\"_parent\"><img src=\"https://colab.research.google.com/assets/colab-badge.svg\" alt=\"Open In Colab\"/></a>"
      ]
    },
    {
      "cell_type": "markdown",
      "metadata": {
        "id": "WGjPqSw7a9qS"
      },
      "source": [
        "<div class=\"clearfix\" style=\"padding: 10px; padding-left: 0px\">\n",
        "<a href=\"http://bombora.com\"><img src=\"https://app.box.com/shared/static/e0j9v1xjmubit0inthhgv3llwnoansjp.png\" width=\"200px\" class=\"pull-right\" style=\"display: inline-block; margin: 5px; vertical-align: middle;\"></a>\n",
        "<h1> Bombora Data Science: <br> *Interview Exam* </h1>\n",
        "</div>\n",
        "\n",
        "<img width=\"200px\" src=\"https://app.box.com/shared/static/15slg1mvjd1zldbg3xkj9picjkmhzpa5.png\">"
      ]
    },
    {
      "cell_type": "markdown",
      "metadata": {
        "id": "-DrR4h2Ka9qW"
      },
      "source": [
        "---\n",
        "# Welcome\n",
        "\n",
        "Welcome! This notebook contains interview assessment questions referenced in the *Instructions* section in the `README.md`—please read that first, *before* attempting to answer questions here.\n",
        "\n",
        "<div class=\"alert alert-info\" role=\"alert\" style=\"margin: 10px\">\n",
        "<p style=\"font-weight:bold\">ADVICE</p>\n",
        "<p>*Do not* read these questions, and panic, *before* reading the instructions in `README.md`.</p>\n",
        "</div>\n",
        "\n",
        "## Have fun!\n",
        "\n",
        "Regardless of outcome, getting to know you is important. Give it your best shot and we look forward to reading your results and following up! Remember, even if you do not completely finish a question from each section, its fine."
      ]
    },
    {
      "cell_type": "markdown",
      "metadata": {
        "id": "sP0LO9nda9qX"
      },
      "source": [
        "# Exam Questions"
      ]
    },
    {
      "cell_type": "markdown",
      "metadata": {
        "id": "vMQBD73da9qX"
      },
      "source": [
        "## 1. Algo + Data Structures\n",
        "#### Please limit yourself to a half hour for this section"
      ]
    },
    {
      "cell_type": "markdown",
      "metadata": {
        "id": "1JktgdMea9qY"
      },
      "source": [
        "### Q 1.1: Fibionacci\n",
        "![fib image](https://upload.wikimedia.org/wikipedia/commons/thumb/9/93/Fibonacci_spiral_34.svg/200px-Fibonacci_spiral_34.svg.png)"
      ]
    },
    {
      "cell_type": "markdown",
      "metadata": {
        "id": "8Me2lfTaa9qY"
      },
      "source": [
        "#### Q 1.1.1\n",
        "Given $n$ where $n \\in \\mathbb{N}$ (i.e., $n$ is an integer and $n > 0$), write a function `fibonacci(n)` that computes the Fibonacci number $F_n$, where $F_n$ is defined by the recurrence relation:\n",
        "\n",
        "$$ F_n = F_{n-1} + F_{n-2}$$\n",
        "\n",
        "with initial conditions of:\n",
        "\n",
        "$$ F_1 = 1,  F_2 = 1$$"
      ]
    },
    {
      "cell_type": "code",
      "source": [
        "def fibonacci(n):\n",
        "    \n",
        "    if (n == 0 or n == 1):\n",
        "        \n",
        "  \n",
        "        return(n)\n",
        "  \n",
        "    else:\n",
        "        \n",
        "  \n",
        "        return (fibonacci(n - 1) + fibonacci(n - 2))\n",
        "  "
      ],
      "metadata": {
        "id": "eYkwMt8kbEZx"
      },
      "execution_count": null,
      "outputs": []
    },
    {
      "cell_type": "code",
      "source": [
        "fibonacci(9)"
      ],
      "metadata": {
        "colab": {
          "base_uri": "https://localhost:8080/"
        },
        "id": "rnOz4ALwbXgw",
        "outputId": "f60abc53-a3e1-42d7-fc8c-fdbdf4bd4b06"
      },
      "execution_count": null,
      "outputs": [
        {
          "output_type": "execute_result",
          "data": {
            "text/plain": [
              "34"
            ]
          },
          "metadata": {},
          "execution_count": 3
        }
      ]
    },
    {
      "cell_type": "markdown",
      "metadata": {
        "id": "9MUgak_Qa9qZ"
      },
      "source": [
        "#### Q 1.1.2\n",
        "What's the complexity of your implementation?"
      ]
    },
    {
      "cell_type": "markdown",
      "source": [
        "In the above code T(n)=T(n-1)+T(n-2), We are taking top to bottom approach in this function , So it will have same complexity as Fibonacci , as Fibonacchi grown exponentially , so will the time complexity of this  function. \n",
        "The time complexity of this code is O(2^n) or exponential . \n"
      ],
      "metadata": {
        "id": "uVCKsDBubgnh"
      }
    },
    {
      "cell_type": "markdown",
      "metadata": {
        "id": "S9c3Gt0Wa9qa"
      },
      "source": [
        "#### Q 1.1.3\n",
        "Consider an alternative implementation to compute Fibonacci number $F_n$ and write a new function, `fibonacci2(n)`."
      ]
    },
    {
      "cell_type": "code",
      "source": [
        "def fibonacci2(n):\n",
        "     \n",
        "    \n",
        "    fibo = [0, 1]\n",
        "     \n",
        "     \n",
        "    for i in range(2, n+1):\n",
        "        fibo.append(fibo[i-1] + fibo[i-2])\n",
        "        \n",
        "    return fibo[n]"
      ],
      "metadata": {
        "id": "opsrmRbRcbc5"
      },
      "execution_count": null,
      "outputs": []
    },
    {
      "cell_type": "code",
      "source": [
        "fibonacci2(9)"
      ],
      "metadata": {
        "colab": {
          "base_uri": "https://localhost:8080/"
        },
        "id": "5SbE3_Nxc0DF",
        "outputId": "96a49a17-6207-49fa-d4ab-7fcc2691338e"
      },
      "execution_count": null,
      "outputs": [
        {
          "output_type": "execute_result",
          "data": {
            "text/plain": [
              "34"
            ]
          },
          "metadata": {},
          "execution_count": 5
        }
      ]
    },
    {
      "cell_type": "markdown",
      "metadata": {
        "id": "wyKk6Q8-a9qa"
      },
      "source": [
        "#### Q 1.1.4\n",
        "What's the complexity of your implementation?"
      ]
    },
    {
      "cell_type": "markdown",
      "source": [
        "The time complexity of this code is  O(n) , as we are looping till n times and the computations inside the loop are linear. In this we are taking a bottom to up approach while calculating the nth fibonacci number, although this code takes more memory but the compuatation will be faster.  "
      ],
      "metadata": {
        "id": "e7qdQkf2c314"
      }
    },
    {
      "cell_type": "markdown",
      "metadata": {
        "id": "IU42Zxxla9qb"
      },
      "source": [
        "#### Q 1.1.5\n",
        "(Optional) What are some examples of optimizations that could improve computational performance?\n"
      ]
    },
    {
      "cell_type": "markdown",
      "source": [
        "We can write another function which calculates the Power of the Matrix  \\begin{bmatrix} \\ 1 & \\ 1 \\\\ \\ 1 & \\ 0 \\end{bmatrix} **n** times,\n",
        "this will give us the **(n+1)th** fibonacci number in the resultant matrix , the first entry in first row and first column will be this number.\n",
        "This will improve the time complexity of our code, as Time complexity for this will be O(log n)"
      ],
      "metadata": {
        "id": "oSBUZ_psgNes"
      }
    },
    {
      "cell_type": "markdown",
      "metadata": {
        "id": "QBgQGH6fa9qc"
      },
      "source": [
        "### Q 1.2: Linked List\n",
        "![ll img](https://upload.wikimedia.org/wikipedia/commons/thumb/6/6d/Singly-linked-list.svg/500px-Singly-linked-list.svg.png)"
      ]
    },
    {
      "cell_type": "markdown",
      "metadata": {
        "id": "BNq8tsbKa9qc"
      },
      "source": [
        "#### Q 1.2.1\n",
        "Consider a [singly linked list](https://en.wikipedia.org/wiki/Linked_list), $L$. Write a function `is_palindrome(L)` that detects if $L$ is a [palindrome](https://en.wikipedia.org/wiki/Palindrome), by returning a bool, `True` or `False`.\n"
      ]
    },
    {
      "cell_type": "markdown",
      "metadata": {
        "id": "-eH8A_dla9qd"
      },
      "source": [
        "#### Q 1.2.2\n",
        "What is the complexity of your implementation?"
      ]
    },
    {
      "cell_type": "markdown",
      "metadata": {
        "id": "2HzA3I7La9qd"
      },
      "source": [
        "#### Q 1.2.3\n",
        "Consider an alternative implementation to detect if L is a palindrome and write a new function, `is_palindrome2(L)`."
      ]
    },
    {
      "cell_type": "markdown",
      "metadata": {
        "id": "n5ynDBh1a9qe"
      },
      "source": [
        "#### Q 1.2.4\n",
        "What's the complexity of this implementation?\n"
      ]
    },
    {
      "cell_type": "markdown",
      "metadata": {
        "id": "RNQXyu8ua9qe"
      },
      "source": [
        "#### Q 1.2.5 \n",
        "(Optional) What are some examples of optimizations that could improve computational performance?\n"
      ]
    },
    {
      "cell_type": "markdown",
      "metadata": {
        "id": "CPfg3axpa9qe"
      },
      "source": [
        "----\n",
        "## 2. Prob + Stats\n",
        "#### Please limit yourself to a half hour for this section"
      ]
    },
    {
      "cell_type": "markdown",
      "metadata": {
        "id": "v7CaWc3na9qe"
      },
      "source": [
        "### Q 2.1: Making a 6-side die roll a 7?\n",
        "\n",
        "Using a single 6-side die, how can you generate a random number between 1 - 7?"
      ]
    },
    {
      "cell_type": "markdown",
      "source": [
        "Any 6 sided die will only give outcomes from 1-6, To divide it into 7 partitions, I will consider that we are rolling this die twice, now we have 36 outcomes but that also cannot be partioned into 7. So I will reject one of the outcomes , For example if I get (6,6) I will not consider it and roll the second die again to get a different outcome. Now these 35 outcomes can be divided into 5 partitions. So if I have an array of 35 elements where I am storing all these outcomes , I will divide the index by 7 and add 1 , that's how I can get a random number between 1-7 (Here I am assuming array indexing starts from 1)"
      ],
      "metadata": {
        "id": "hnfH4sSlkNw1"
      }
    },
    {
      "cell_type": "markdown",
      "source": [
        "The given die is 6 sided , The "
      ],
      "metadata": {
        "id": "nIBO5W5njB1Z"
      }
    },
    {
      "cell_type": "markdown",
      "metadata": {
        "id": "Q4gZDtqJa9qf"
      },
      "source": [
        "### Q 2.2: Is normality uniform?\n",
        "\n",
        "<img src=https://rednaxela1618.files.wordpress.com/2014/06/uniformnormal.png width=\"480\">\n",
        "\n",
        "\n",
        "Given draws from a normal distribution with known parameters, how can you simulate draws from a uniform distribution?"
      ]
    },
    {
      "cell_type": "markdown",
      "source": [
        ""
      ],
      "metadata": {
        "id": "A-Shm4TQr9-O"
      }
    },
    {
      "cell_type": "markdown",
      "metadata": {
        "id": "GWNU3WHUa9qf"
      },
      "source": [
        "### Q 2.3: Uber vs. Lyft\n",
        "\n",
        "![uber vs lyft](http://usiaffinity.typepad.com/.a/6a01347fc1cb08970c01bb0876bcbe970d-pi)\n",
        "\n",
        "You request 2 UberX’s and 3 Lyfts. If the time that each takes to reach you is IID (Independent and identically distributed), what is the probability that all the Lyfts arrive first? What is the probability that all the UberX’s arrive first?"
      ]
    },
    {
      "cell_type": "markdown",
      "source": [
        "All Lyft's first\n",
        "\n",
        "probability that the first car is Lyft = 3/5\n",
        "probability that the second car is Lyft = 2/4\n",
        "probability that the third car is Lyft = 1/3 Therefore, probability that all the Lyfts arrive first is (3/5) * (2/4) * (1/3) = 1/10\n",
        "\n",
        "All Uber's first\n",
        "probability that the first car is Uber=2/5\n",
        "probability that the second car is Uber=1/4\n",
        "Therefore, probability that all the Ubers arrive first is (2/5)*(1/4)=1/10\n",
        "\n",
        "The probability that a lyft arrives or an Uber arrives is same :) !\n"
      ],
      "metadata": {
        "id": "cJwD_wKqmy5O"
      }
    },
    {
      "cell_type": "markdown",
      "metadata": {
        "id": "HZfa__Iva9qf"
      },
      "source": [
        "--------\n",
        "## 3. NLP Algorithm Development\n",
        "#### Please limit yourself to three hours for this section\n",
        "\n",
        "Please provide all code and results. Use markdown cells to explain your approach. If there are pieces you couldn’t get to, or approaches you did not have time to explore, then please document your thoughts."
      ]
    },
    {
      "cell_type": "markdown",
      "metadata": {
        "tags": [],
        "id": "CJdoCQt0a9qg"
      },
      "source": [
        "### Q 3.1 Build a Multi-Class Classifier\n",
        "\n",
        "#### Overview\n",
        "\n",
        "This exercise is a representation of the problem sets that are critical to our platform and success. You are asked to create a multi-class classification problem using the “option_1.csv” dataset. There is a list of 5K reviews for several product categories. Create a classification model to classify the review text into each category.\n",
        "\n",
        "#### Data\n",
        "“Text” – A review given by a customer for a purchased item\n",
        "\n",
        "“Cat” – A category for the item being reviewed"
      ]
    },
    {
      "cell_type": "code",
      "source": [
        "import pandas as pd\n",
        "df = pd.read_csv('https://github.com/bomboradata/datascience-exam/raw/master/option_1.csv')\n",
        "df"
      ],
      "metadata": {
        "colab": {
          "base_uri": "https://localhost:8080/",
          "height": 423
        },
        "id": "HHmkARO3nemC",
        "outputId": "aa541c2b-9cbf-40c4-c469-6952a6540d8d"
      },
      "execution_count": null,
      "outputs": [
        {
          "output_type": "execute_result",
          "data": {
            "text/html": [
              "\n",
              "  <div id=\"df-e43ff890-3b90-447b-bff6-51b147fdd463\">\n",
              "    <div class=\"colab-df-container\">\n",
              "      <div>\n",
              "<style scoped>\n",
              "    .dataframe tbody tr th:only-of-type {\n",
              "        vertical-align: middle;\n",
              "    }\n",
              "\n",
              "    .dataframe tbody tr th {\n",
              "        vertical-align: top;\n",
              "    }\n",
              "\n",
              "    .dataframe thead th {\n",
              "        text-align: right;\n",
              "    }\n",
              "</style>\n",
              "<table border=\"1\" class=\"dataframe\">\n",
              "  <thead>\n",
              "    <tr style=\"text-align: right;\">\n",
              "      <th></th>\n",
              "      <th>Text</th>\n",
              "      <th>Cat</th>\n",
              "    </tr>\n",
              "  </thead>\n",
              "  <tbody>\n",
              "    <tr>\n",
              "      <th>0</th>\n",
              "      <td>Hi! I'm Martine Redman and I created this puzz...</td>\n",
              "      <td>puzzles</td>\n",
              "    </tr>\n",
              "    <tr>\n",
              "      <th>1</th>\n",
              "      <td>120 colors? I say 120 sticks of fun! And a fre...</td>\n",
              "      <td>arts crafts</td>\n",
              "    </tr>\n",
              "    <tr>\n",
              "      <th>2</th>\n",
              "      <td>What a wonderful creation. Art, in our house, ...</td>\n",
              "      <td>arts crafts</td>\n",
              "    </tr>\n",
              "    <tr>\n",
              "      <th>3</th>\n",
              "      <td>Meowth is the coolest, lots of play value. Gre...</td>\n",
              "      <td>action toy figures</td>\n",
              "    </tr>\n",
              "    <tr>\n",
              "      <th>4</th>\n",
              "      <td>You can give a MagnaDoodle to any kid who's ab...</td>\n",
              "      <td>arts crafts</td>\n",
              "    </tr>\n",
              "    <tr>\n",
              "      <th>...</th>\n",
              "      <td>...</td>\n",
              "      <td>...</td>\n",
              "    </tr>\n",
              "    <tr>\n",
              "      <th>4995</th>\n",
              "      <td>I am always looking for foods that have not be...</td>\n",
              "      <td>snack food</td>\n",
              "    </tr>\n",
              "    <tr>\n",
              "      <th>4996</th>\n",
              "      <td>Critical item for our household which includes...</td>\n",
              "      <td>baby food</td>\n",
              "    </tr>\n",
              "    <tr>\n",
              "      <th>4997</th>\n",
              "      <td>I ordered these based on the positive reviews ...</td>\n",
              "      <td>snack food</td>\n",
              "    </tr>\n",
              "    <tr>\n",
              "      <th>4998</th>\n",
              "      <td>I was a little leery having to buy a box with ...</td>\n",
              "      <td>snack food</td>\n",
              "    </tr>\n",
              "    <tr>\n",
              "      <th>4999</th>\n",
              "      <td>I purchased this for making fudge. I made 2 ba...</td>\n",
              "      <td>cooking baking supplies</td>\n",
              "    </tr>\n",
              "  </tbody>\n",
              "</table>\n",
              "<p>5000 rows × 2 columns</p>\n",
              "</div>\n",
              "      <button class=\"colab-df-convert\" onclick=\"convertToInteractive('df-e43ff890-3b90-447b-bff6-51b147fdd463')\"\n",
              "              title=\"Convert this dataframe to an interactive table.\"\n",
              "              style=\"display:none;\">\n",
              "        \n",
              "  <svg xmlns=\"http://www.w3.org/2000/svg\" height=\"24px\"viewBox=\"0 0 24 24\"\n",
              "       width=\"24px\">\n",
              "    <path d=\"M0 0h24v24H0V0z\" fill=\"none\"/>\n",
              "    <path d=\"M18.56 5.44l.94 2.06.94-2.06 2.06-.94-2.06-.94-.94-2.06-.94 2.06-2.06.94zm-11 1L8.5 8.5l.94-2.06 2.06-.94-2.06-.94L8.5 2.5l-.94 2.06-2.06.94zm10 10l.94 2.06.94-2.06 2.06-.94-2.06-.94-.94-2.06-.94 2.06-2.06.94z\"/><path d=\"M17.41 7.96l-1.37-1.37c-.4-.4-.92-.59-1.43-.59-.52 0-1.04.2-1.43.59L10.3 9.45l-7.72 7.72c-.78.78-.78 2.05 0 2.83L4 21.41c.39.39.9.59 1.41.59.51 0 1.02-.2 1.41-.59l7.78-7.78 2.81-2.81c.8-.78.8-2.07 0-2.86zM5.41 20L4 18.59l7.72-7.72 1.47 1.35L5.41 20z\"/>\n",
              "  </svg>\n",
              "      </button>\n",
              "      \n",
              "  <style>\n",
              "    .colab-df-container {\n",
              "      display:flex;\n",
              "      flex-wrap:wrap;\n",
              "      gap: 12px;\n",
              "    }\n",
              "\n",
              "    .colab-df-convert {\n",
              "      background-color: #E8F0FE;\n",
              "      border: none;\n",
              "      border-radius: 50%;\n",
              "      cursor: pointer;\n",
              "      display: none;\n",
              "      fill: #1967D2;\n",
              "      height: 32px;\n",
              "      padding: 0 0 0 0;\n",
              "      width: 32px;\n",
              "    }\n",
              "\n",
              "    .colab-df-convert:hover {\n",
              "      background-color: #E2EBFA;\n",
              "      box-shadow: 0px 1px 2px rgba(60, 64, 67, 0.3), 0px 1px 3px 1px rgba(60, 64, 67, 0.15);\n",
              "      fill: #174EA6;\n",
              "    }\n",
              "\n",
              "    [theme=dark] .colab-df-convert {\n",
              "      background-color: #3B4455;\n",
              "      fill: #D2E3FC;\n",
              "    }\n",
              "\n",
              "    [theme=dark] .colab-df-convert:hover {\n",
              "      background-color: #434B5C;\n",
              "      box-shadow: 0px 1px 3px 1px rgba(0, 0, 0, 0.15);\n",
              "      filter: drop-shadow(0px 1px 2px rgba(0, 0, 0, 0.3));\n",
              "      fill: #FFFFFF;\n",
              "    }\n",
              "  </style>\n",
              "\n",
              "      <script>\n",
              "        const buttonEl =\n",
              "          document.querySelector('#df-e43ff890-3b90-447b-bff6-51b147fdd463 button.colab-df-convert');\n",
              "        buttonEl.style.display =\n",
              "          google.colab.kernel.accessAllowed ? 'block' : 'none';\n",
              "\n",
              "        async function convertToInteractive(key) {\n",
              "          const element = document.querySelector('#df-e43ff890-3b90-447b-bff6-51b147fdd463');\n",
              "          const dataTable =\n",
              "            await google.colab.kernel.invokeFunction('convertToInteractive',\n",
              "                                                     [key], {});\n",
              "          if (!dataTable) return;\n",
              "\n",
              "          const docLinkHtml = 'Like what you see? Visit the ' +\n",
              "            '<a target=\"_blank\" href=https://colab.research.google.com/notebooks/data_table.ipynb>data table notebook</a>'\n",
              "            + ' to learn more about interactive tables.';\n",
              "          element.innerHTML = '';\n",
              "          dataTable['output_type'] = 'display_data';\n",
              "          await google.colab.output.renderOutput(dataTable, element);\n",
              "          const docLink = document.createElement('div');\n",
              "          docLink.innerHTML = docLinkHtml;\n",
              "          element.appendChild(docLink);\n",
              "        }\n",
              "      </script>\n",
              "    </div>\n",
              "  </div>\n",
              "  "
            ],
            "text/plain": [
              "                                                   Text  \\\n",
              "0     Hi! I'm Martine Redman and I created this puzz...   \n",
              "1     120 colors? I say 120 sticks of fun! And a fre...   \n",
              "2     What a wonderful creation. Art, in our house, ...   \n",
              "3     Meowth is the coolest, lots of play value. Gre...   \n",
              "4     You can give a MagnaDoodle to any kid who's ab...   \n",
              "...                                                 ...   \n",
              "4995  I am always looking for foods that have not be...   \n",
              "4996  Critical item for our household which includes...   \n",
              "4997  I ordered these based on the positive reviews ...   \n",
              "4998  I was a little leery having to buy a box with ...   \n",
              "4999  I purchased this for making fudge. I made 2 ba...   \n",
              "\n",
              "                          Cat  \n",
              "0                     puzzles  \n",
              "1                 arts crafts  \n",
              "2                 arts crafts  \n",
              "3          action toy figures  \n",
              "4                 arts crafts  \n",
              "...                       ...  \n",
              "4995               snack food  \n",
              "4996                baby food  \n",
              "4997               snack food  \n",
              "4998               snack food  \n",
              "4999  cooking baking supplies  \n",
              "\n",
              "[5000 rows x 2 columns]"
            ]
          },
          "metadata": {},
          "execution_count": 2
        }
      ]
    },
    {
      "cell_type": "code",
      "source": [
        "#cleaning and preprocessing the data \n",
        "import re\n",
        "from nltk.corpus import stopwords\n",
        "from wordcloud import WordCloud, STOPWORDS\n",
        "import spacy"
      ],
      "metadata": {
        "id": "DwHuUycKnzz2"
      },
      "execution_count": null,
      "outputs": []
    },
    {
      "cell_type": "code",
      "source": [
        "df['new_Text'] = df['Text'].apply(lambda x: \" \".join(x.lower() for x in x.split()))\n",
        "df['new_Text'].head()"
      ],
      "metadata": {
        "colab": {
          "base_uri": "https://localhost:8080/"
        },
        "id": "9rex_VS2oBY0",
        "outputId": "26f848c8-95ae-4843-efb3-9eef0c7c1230"
      },
      "execution_count": null,
      "outputs": [
        {
          "output_type": "execute_result",
          "data": {
            "text/plain": [
              "0    hi! i'm martine redman and i created this puzz...\n",
              "1    120 colors? i say 120 sticks of fun! and a fre...\n",
              "2    what a wonderful creation. art, in our house, ...\n",
              "3    meowth is the coolest, lots of play value. gre...\n",
              "4    you can give a magnadoodle to any kid who's ab...\n",
              "Name: new_Text, dtype: object"
            ]
          },
          "metadata": {},
          "execution_count": 4
        }
      ]
    },
    {
      "cell_type": "code",
      "source": [
        "df['new_Text'] = df['new_Text'].str.replace('[^\\w\\s]','')\n",
        "df['new_Text'].head()"
      ],
      "metadata": {
        "colab": {
          "base_uri": "https://localhost:8080/"
        },
        "id": "aPqhCYbioI7b",
        "outputId": "1d5b868b-07f9-42d6-fac4-205594f4ae22"
      },
      "execution_count": null,
      "outputs": [
        {
          "output_type": "stream",
          "name": "stderr",
          "text": [
            "/usr/local/lib/python3.7/dist-packages/ipykernel_launcher.py:1: FutureWarning: The default value of regex will change from True to False in a future version.\n",
            "  \"\"\"Entry point for launching an IPython kernel.\n"
          ]
        },
        {
          "output_type": "execute_result",
          "data": {
            "text/plain": [
              "0    hi im martine redman and i created this puzzle...\n",
              "1    120 colors i say 120 sticks of fun and a free ...\n",
              "2    what a wonderful creation art in our house com...\n",
              "3    meowth is the coolest lots of play value great...\n",
              "4    you can give a magnadoodle to any kid whos abl...\n",
              "Name: new_Text, dtype: object"
            ]
          },
          "metadata": {},
          "execution_count": 5
        }
      ]
    },
    {
      "cell_type": "code",
      "source": [
        "import nltk\n",
        "nltk.download('stopwords')\n",
        "stop = stopwords.words('english')\n",
        "df['new_Text'] = df['new_Text'].apply(lambda x: \" \".join(x for x in x.split() if x not in stop))\n",
        "df.head(20)"
      ],
      "metadata": {
        "colab": {
          "base_uri": "https://localhost:8080/",
          "height": 711
        },
        "id": "KFD6lucZoKq9",
        "outputId": "1e0d1193-274b-4e45-8b63-750a61adbbf2"
      },
      "execution_count": null,
      "outputs": [
        {
          "output_type": "stream",
          "name": "stdout",
          "text": [
            "[nltk_data] Downloading package stopwords to /root/nltk_data...\n",
            "[nltk_data]   Unzipping corpora/stopwords.zip.\n"
          ]
        },
        {
          "output_type": "execute_result",
          "data": {
            "text/html": [
              "\n",
              "  <div id=\"df-e0aa8542-d090-4ede-b214-eb76d6e9df14\">\n",
              "    <div class=\"colab-df-container\">\n",
              "      <div>\n",
              "<style scoped>\n",
              "    .dataframe tbody tr th:only-of-type {\n",
              "        vertical-align: middle;\n",
              "    }\n",
              "\n",
              "    .dataframe tbody tr th {\n",
              "        vertical-align: top;\n",
              "    }\n",
              "\n",
              "    .dataframe thead th {\n",
              "        text-align: right;\n",
              "    }\n",
              "</style>\n",
              "<table border=\"1\" class=\"dataframe\">\n",
              "  <thead>\n",
              "    <tr style=\"text-align: right;\">\n",
              "      <th></th>\n",
              "      <th>Text</th>\n",
              "      <th>Cat</th>\n",
              "      <th>new_Text</th>\n",
              "    </tr>\n",
              "  </thead>\n",
              "  <tbody>\n",
              "    <tr>\n",
              "      <th>0</th>\n",
              "      <td>Hi! I'm Martine Redman and I created this puzz...</td>\n",
              "      <td>puzzles</td>\n",
              "      <td>hi im martine redman created puzzle briarpatch...</td>\n",
              "    </tr>\n",
              "    <tr>\n",
              "      <th>1</th>\n",
              "      <td>120 colors? I say 120 sticks of fun! And a fre...</td>\n",
              "      <td>arts crafts</td>\n",
              "      <td>120 colors say 120 sticks fun free sharpener s...</td>\n",
              "    </tr>\n",
              "    <tr>\n",
              "      <th>2</th>\n",
              "      <td>What a wonderful creation. Art, in our house, ...</td>\n",
              "      <td>arts crafts</td>\n",
              "      <td>wonderful creation art house comes many colors...</td>\n",
              "    </tr>\n",
              "    <tr>\n",
              "      <th>3</th>\n",
              "      <td>Meowth is the coolest, lots of play value. Gre...</td>\n",
              "      <td>action toy figures</td>\n",
              "      <td>meowth coolest lots play value great use kids ...</td>\n",
              "    </tr>\n",
              "    <tr>\n",
              "      <th>4</th>\n",
              "      <td>You can give a MagnaDoodle to any kid who's ab...</td>\n",
              "      <td>arts crafts</td>\n",
              "      <td>give magnadoodle kid whos able grasp stylus ba...</td>\n",
              "    </tr>\n",
              "    <tr>\n",
              "      <th>5</th>\n",
              "      <td>Mitchum Clear Gel Anti-Perspirant is an effect...</td>\n",
              "      <td>personal care</td>\n",
              "      <td>mitchum clear gel antiperspirant effective deo...</td>\n",
              "    </tr>\n",
              "    <tr>\n",
              "      <th>6</th>\n",
              "      <td>I loved the flavor of the bars!!! I really did...</td>\n",
              "      <td>nutrition wellness</td>\n",
              "      <td>loved flavor bars really didnt expect good nut...</td>\n",
              "    </tr>\n",
              "    <tr>\n",
              "      <th>7</th>\n",
              "      <td>My 5 year old daughter loved following the lif...</td>\n",
              "      <td>learning education</td>\n",
              "      <td>5 year old daughter loved following life cycle...</td>\n",
              "    </tr>\n",
              "    <tr>\n",
              "      <th>8</th>\n",
              "      <td>On my way to a great vacation in the Pocono's ...</td>\n",
              "      <td>electronics for kids</td>\n",
              "      <td>way great vacation poconos son family niita to...</td>\n",
              "    </tr>\n",
              "    <tr>\n",
              "      <th>9</th>\n",
              "      <td>These things are absolutely marvelous! Serious...</td>\n",
              "      <td>household supplies</td>\n",
              "      <td>things absolutely marvelous seriously folks li...</td>\n",
              "    </tr>\n",
              "    <tr>\n",
              "      <th>10</th>\n",
              "      <td>I CONFESS I AM AN ADDICT!! Recently I recieved...</td>\n",
              "      <td>electronics for kids</td>\n",
              "      <td>confess addict recently recieved slingo gift b...</td>\n",
              "    </tr>\n",
              "    <tr>\n",
              "      <th>11</th>\n",
              "      <td>If you are one of those people that collects t...</td>\n",
              "      <td>stuffed animals plush</td>\n",
              "      <td>one people collects things means get thrill am...</td>\n",
              "    </tr>\n",
              "    <tr>\n",
              "      <th>12</th>\n",
              "      <td>Peace is a beautiful multicolored bear. No two...</td>\n",
              "      <td>stuffed animals plush</td>\n",
              "      <td>peace beautiful multicolored bear two alike so...</td>\n",
              "    </tr>\n",
              "    <tr>\n",
              "      <th>13</th>\n",
              "      <td>I have played checkers for over a year now, an...</td>\n",
              "      <td>electronics for kids</td>\n",
              "      <td>played checkers year im quite serious game hop...</td>\n",
              "    </tr>\n",
              "    <tr>\n",
              "      <th>14</th>\n",
              "      <td>I've used these batteries my entire life in ev...</td>\n",
              "      <td>household supplies</td>\n",
              "      <td>ive used batteries entire life everything smok...</td>\n",
              "    </tr>\n",
              "    <tr>\n",
              "      <th>15</th>\n",
              "      <td>My kids have alot of fun with this spongy clay...</td>\n",
              "      <td>arts crafts</td>\n",
              "      <td>kids alot fun spongy clay love mixing new colo...</td>\n",
              "    </tr>\n",
              "    <tr>\n",
              "      <th>16</th>\n",
              "      <td>I liked the Breath Right Nasal Strips. They ke...</td>\n",
              "      <td>health care</td>\n",
              "      <td>liked breath right nasal strips kept nostrils ...</td>\n",
              "    </tr>\n",
              "    <tr>\n",
              "      <th>17</th>\n",
              "      <td>This shaver was much better than others I have...</td>\n",
              "      <td>personal care</td>\n",
              "      <td>shaver much better others tried past didnt lea...</td>\n",
              "    </tr>\n",
              "    <tr>\n",
              "      <th>18</th>\n",
              "      <td>I play for a college soccer team, and on one o...</td>\n",
              "      <td>electronics for kids</td>\n",
              "      <td>play college soccer team one away games one gi...</td>\n",
              "    </tr>\n",
              "    <tr>\n",
              "      <th>19</th>\n",
              "      <td>FLIMSY FLIMSY FLIMSY! FOR THE PRICE YOU THINK ...</td>\n",
              "      <td>arts crafts</td>\n",
              "      <td>flimsy flimsy flimsy price think could make li...</td>\n",
              "    </tr>\n",
              "  </tbody>\n",
              "</table>\n",
              "</div>\n",
              "      <button class=\"colab-df-convert\" onclick=\"convertToInteractive('df-e0aa8542-d090-4ede-b214-eb76d6e9df14')\"\n",
              "              title=\"Convert this dataframe to an interactive table.\"\n",
              "              style=\"display:none;\">\n",
              "        \n",
              "  <svg xmlns=\"http://www.w3.org/2000/svg\" height=\"24px\"viewBox=\"0 0 24 24\"\n",
              "       width=\"24px\">\n",
              "    <path d=\"M0 0h24v24H0V0z\" fill=\"none\"/>\n",
              "    <path d=\"M18.56 5.44l.94 2.06.94-2.06 2.06-.94-2.06-.94-.94-2.06-.94 2.06-2.06.94zm-11 1L8.5 8.5l.94-2.06 2.06-.94-2.06-.94L8.5 2.5l-.94 2.06-2.06.94zm10 10l.94 2.06.94-2.06 2.06-.94-2.06-.94-.94-2.06-.94 2.06-2.06.94z\"/><path d=\"M17.41 7.96l-1.37-1.37c-.4-.4-.92-.59-1.43-.59-.52 0-1.04.2-1.43.59L10.3 9.45l-7.72 7.72c-.78.78-.78 2.05 0 2.83L4 21.41c.39.39.9.59 1.41.59.51 0 1.02-.2 1.41-.59l7.78-7.78 2.81-2.81c.8-.78.8-2.07 0-2.86zM5.41 20L4 18.59l7.72-7.72 1.47 1.35L5.41 20z\"/>\n",
              "  </svg>\n",
              "      </button>\n",
              "      \n",
              "  <style>\n",
              "    .colab-df-container {\n",
              "      display:flex;\n",
              "      flex-wrap:wrap;\n",
              "      gap: 12px;\n",
              "    }\n",
              "\n",
              "    .colab-df-convert {\n",
              "      background-color: #E8F0FE;\n",
              "      border: none;\n",
              "      border-radius: 50%;\n",
              "      cursor: pointer;\n",
              "      display: none;\n",
              "      fill: #1967D2;\n",
              "      height: 32px;\n",
              "      padding: 0 0 0 0;\n",
              "      width: 32px;\n",
              "    }\n",
              "\n",
              "    .colab-df-convert:hover {\n",
              "      background-color: #E2EBFA;\n",
              "      box-shadow: 0px 1px 2px rgba(60, 64, 67, 0.3), 0px 1px 3px 1px rgba(60, 64, 67, 0.15);\n",
              "      fill: #174EA6;\n",
              "    }\n",
              "\n",
              "    [theme=dark] .colab-df-convert {\n",
              "      background-color: #3B4455;\n",
              "      fill: #D2E3FC;\n",
              "    }\n",
              "\n",
              "    [theme=dark] .colab-df-convert:hover {\n",
              "      background-color: #434B5C;\n",
              "      box-shadow: 0px 1px 3px 1px rgba(0, 0, 0, 0.15);\n",
              "      filter: drop-shadow(0px 1px 2px rgba(0, 0, 0, 0.3));\n",
              "      fill: #FFFFFF;\n",
              "    }\n",
              "  </style>\n",
              "\n",
              "      <script>\n",
              "        const buttonEl =\n",
              "          document.querySelector('#df-e0aa8542-d090-4ede-b214-eb76d6e9df14 button.colab-df-convert');\n",
              "        buttonEl.style.display =\n",
              "          google.colab.kernel.accessAllowed ? 'block' : 'none';\n",
              "\n",
              "        async function convertToInteractive(key) {\n",
              "          const element = document.querySelector('#df-e0aa8542-d090-4ede-b214-eb76d6e9df14');\n",
              "          const dataTable =\n",
              "            await google.colab.kernel.invokeFunction('convertToInteractive',\n",
              "                                                     [key], {});\n",
              "          if (!dataTable) return;\n",
              "\n",
              "          const docLinkHtml = 'Like what you see? Visit the ' +\n",
              "            '<a target=\"_blank\" href=https://colab.research.google.com/notebooks/data_table.ipynb>data table notebook</a>'\n",
              "            + ' to learn more about interactive tables.';\n",
              "          element.innerHTML = '';\n",
              "          dataTable['output_type'] = 'display_data';\n",
              "          await google.colab.output.renderOutput(dataTable, element);\n",
              "          const docLink = document.createElement('div');\n",
              "          docLink.innerHTML = docLinkHtml;\n",
              "          element.appendChild(docLink);\n",
              "        }\n",
              "      </script>\n",
              "    </div>\n",
              "  </div>\n",
              "  "
            ],
            "text/plain": [
              "                                                 Text                    Cat  \\\n",
              "0   Hi! I'm Martine Redman and I created this puzz...                puzzles   \n",
              "1   120 colors? I say 120 sticks of fun! And a fre...            arts crafts   \n",
              "2   What a wonderful creation. Art, in our house, ...            arts crafts   \n",
              "3   Meowth is the coolest, lots of play value. Gre...     action toy figures   \n",
              "4   You can give a MagnaDoodle to any kid who's ab...            arts crafts   \n",
              "5   Mitchum Clear Gel Anti-Perspirant is an effect...          personal care   \n",
              "6   I loved the flavor of the bars!!! I really did...     nutrition wellness   \n",
              "7   My 5 year old daughter loved following the lif...     learning education   \n",
              "8   On my way to a great vacation in the Pocono's ...   electronics for kids   \n",
              "9   These things are absolutely marvelous! Serious...     household supplies   \n",
              "10  I CONFESS I AM AN ADDICT!! Recently I recieved...   electronics for kids   \n",
              "11  If you are one of those people that collects t...  stuffed animals plush   \n",
              "12  Peace is a beautiful multicolored bear. No two...  stuffed animals plush   \n",
              "13  I have played checkers for over a year now, an...   electronics for kids   \n",
              "14  I've used these batteries my entire life in ev...     household supplies   \n",
              "15  My kids have alot of fun with this spongy clay...            arts crafts   \n",
              "16  I liked the Breath Right Nasal Strips. They ke...            health care   \n",
              "17  This shaver was much better than others I have...          personal care   \n",
              "18  I play for a college soccer team, and on one o...   electronics for kids   \n",
              "19  FLIMSY FLIMSY FLIMSY! FOR THE PRICE YOU THINK ...            arts crafts   \n",
              "\n",
              "                                             new_Text  \n",
              "0   hi im martine redman created puzzle briarpatch...  \n",
              "1   120 colors say 120 sticks fun free sharpener s...  \n",
              "2   wonderful creation art house comes many colors...  \n",
              "3   meowth coolest lots play value great use kids ...  \n",
              "4   give magnadoodle kid whos able grasp stylus ba...  \n",
              "5   mitchum clear gel antiperspirant effective deo...  \n",
              "6   loved flavor bars really didnt expect good nut...  \n",
              "7   5 year old daughter loved following life cycle...  \n",
              "8   way great vacation poconos son family niita to...  \n",
              "9   things absolutely marvelous seriously folks li...  \n",
              "10  confess addict recently recieved slingo gift b...  \n",
              "11  one people collects things means get thrill am...  \n",
              "12  peace beautiful multicolored bear two alike so...  \n",
              "13  played checkers year im quite serious game hop...  \n",
              "14  ive used batteries entire life everything smok...  \n",
              "15  kids alot fun spongy clay love mixing new colo...  \n",
              "16  liked breath right nasal strips kept nostrils ...  \n",
              "17  shaver much better others tried past didnt lea...  \n",
              "18  play college soccer team one away games one gi...  \n",
              "19  flimsy flimsy flimsy price think could make li...  "
            ]
          },
          "metadata": {},
          "execution_count": 6
        }
      ]
    },
    {
      "cell_type": "code",
      "source": [
        "from sklearn.feature_extraction.text import TfidfVectorizer\n",
        "tfidf = TfidfVectorizer(sublinear_tf=True, min_df=5, norm='l2', encoding='latin-1', ngram_range=(1, 2), stop_words='english')\n",
        "features = tfidf.fit_transform(df.new_Text).toarray()\n",
        "labels = df.Cat"
      ],
      "metadata": {
        "id": "9tFEl9VooP4m"
      },
      "execution_count": null,
      "outputs": []
    },
    {
      "cell_type": "code",
      "execution_count": null,
      "metadata": {
        "colab": {
          "base_uri": "https://localhost:8080/"
        },
        "id": "JDm18TLya9qg",
        "outputId": "a9d33c1f-8caa-4b77-e0e1-0f059ab95b78"
      },
      "outputs": [
        {
          "output_type": "execute_result",
          "data": {
            "text/plain": [
              "MultinomialNB()"
            ]
          },
          "metadata": {},
          "execution_count": 8
        }
      ],
      "source": [
        "from sklearn.model_selection import train_test_split\n",
        "from sklearn.feature_extraction.text import CountVectorizer\n",
        "from sklearn.feature_extraction.text import TfidfTransformer\n",
        "from sklearn.naive_bayes import MultinomialNB\n",
        "X_train, X_test, y_train, y_test = train_test_split(df['new_Text'], df['Cat'], random_state = 0)\n",
        "count_vect = CountVectorizer()\n",
        "X_train_counts = count_vect.fit_transform(X_train)\n",
        "tfidf_transformer = TfidfTransformer()\n",
        "X_train_tfidf = tfidf_transformer.fit_transform(X_train_counts)\n",
        "clf = MultinomialNB()\n",
        "clf.fit(X_train_tfidf, y_train)"
      ]
    },
    {
      "cell_type": "code",
      "source": [
        "\n",
        "print(clf.predict(count_vect.transform([\"I loved the flavor of the bars!!! I really didn't expect them to be as good as they are!!! I have had other nutritional bars that tasted really nasty. I'd buy the Balance Bars again, and plan on doing so. Even my children liked them! The bars gave me energy when I ate them in the late afternoon. They were a real pick-me-up! I'd recommend this product to a friend in a heartbeat. It's nice to know you can buy a nutritional bar that tastes good and seems more like a snack!\"])))"
      ],
      "metadata": {
        "colab": {
          "base_uri": "https://localhost:8080/"
        },
        "id": "DD5XWG1ypmI6",
        "outputId": "7ed815e6-3798-48fd-f13e-68eee1934755"
      },
      "execution_count": null,
      "outputs": [
        {
          "output_type": "stream",
          "name": "stdout",
          "text": [
            "['nutrition wellness']\n"
          ]
        }
      ]
    },
    {
      "cell_type": "code",
      "source": [
        "print(clf.predict(count_vect.transform(['I play with this all the time!!']))) "
      ],
      "metadata": {
        "id": "Wc_ZGyVipmyB",
        "outputId": "c4ebb736-2473-450e-8504-ac1585f8e5f6",
        "colab": {
          "base_uri": "https://localhost:8080/"
        }
      },
      "execution_count": null,
      "outputs": [
        {
          "output_type": "stream",
          "name": "stdout",
          "text": [
            "['electronics for kids']\n"
          ]
        }
      ]
    },
    {
      "cell_type": "code",
      "source": [
        "print(clf.predict(count_vect.transform([\"If you are one of those people that collects these things, then by all means get it, because it will thrill and amaze you. For you kids, though--basically it'll just sit there, and adults you know will tell you that you shouldn't play with it, because it will be worth something someday. Whatever. Pretty durable if you decide not to listen to them. Not very educational--it doesn't espouse the virtues of peace, other than the cute little peace symbol\"])))"
      ],
      "metadata": {
        "outputId": "b887634f-5fbf-4919-e0d6-37b50210290c",
        "colab": {
          "base_uri": "https://localhost:8080/"
        },
        "id": "MZ2f-JY0qQm-"
      },
      "execution_count": null,
      "outputs": [
        {
          "output_type": "stream",
          "name": "stdout",
          "text": [
            "['stuffed animals plush']\n"
          ]
        }
      ]
    },
    {
      "cell_type": "code",
      "source": [
        "#validating the model using a new review \n",
        "print(clf.predict(count_vect.transform(['Hi I love these puzzles, I spend all my days playing with them ']))) "
      ],
      "metadata": {
        "id": "H6tPvc5MovZA",
        "outputId": "cdd90251-749b-44f2-8230-508b25aab5cd",
        "colab": {
          "base_uri": "https://localhost:8080/"
        }
      },
      "execution_count": null,
      "outputs": [
        {
          "output_type": "stream",
          "name": "stdout",
          "text": [
            "['puzzles']\n"
          ]
        }
      ]
    },
    {
      "cell_type": "code",
      "source": [
        "X_test_counts = count_vect.transform(X_test)\n",
        "tfidf_transformer = TfidfTransformer()\n",
        "X_test_tfidf = tfidf_transformer.fit_transform(X_test_counts)"
      ],
      "metadata": {
        "id": "R0DdqHqoQRt1"
      },
      "execution_count": null,
      "outputs": []
    },
    {
      "cell_type": "code",
      "source": [
        "\n",
        "import numpy as np \n",
        "from sklearn.metrics import accuracy_score\n",
        "\n",
        "print(X_train_tfidf.shape)\n",
        "print(X_test_tfidf.shape)\n",
        "clf.fit(X_train_tfidf,y_train)\n",
        "\n"
      ],
      "metadata": {
        "id": "LqTC6NLwMB-2",
        "outputId": "b111ca87-6d87-4a76-d7bb-c15d64d46ec7",
        "colab": {
          "base_uri": "https://localhost:8080/"
        }
      },
      "execution_count": null,
      "outputs": [
        {
          "output_type": "stream",
          "name": "stdout",
          "text": [
            "(3750, 18195)\n",
            "(1250, 18195)\n"
          ]
        },
        {
          "output_type": "execute_result",
          "data": {
            "text/plain": [
              "MultinomialNB()"
            ]
          },
          "metadata": {},
          "execution_count": 14
        }
      ]
    },
    {
      "cell_type": "code",
      "source": [
        "X_train_tfidf"
      ],
      "metadata": {
        "id": "EveXEyYOS6DU",
        "outputId": "4c0f25aa-4145-4417-d842-6e5112baa8c2",
        "colab": {
          "base_uri": "https://localhost:8080/"
        }
      },
      "execution_count": null,
      "outputs": [
        {
          "output_type": "execute_result",
          "data": {
            "text/plain": [
              "<3750x18195 sparse matrix of type '<class 'numpy.float64'>'\n",
              "\twith 130634 stored elements in Compressed Sparse Row format>"
            ]
          },
          "metadata": {},
          "execution_count": 15
        }
      ]
    },
    {
      "cell_type": "code",
      "source": [
        "y_hat = clf.predict(X_test_tfidf)\n",
        "y_true = y_test\n",
        "clf_2 = accuracy_score(y_hat,y_true)"
      ],
      "metadata": {
        "id": "S5tQF63CQQZQ"
      },
      "execution_count": null,
      "outputs": []
    },
    {
      "cell_type": "code",
      "source": [
        "clf_2"
      ],
      "metadata": {
        "colab": {
          "base_uri": "https://localhost:8080/"
        },
        "id": "PqHiJqzoXcPc",
        "outputId": "b5eddd86-1b45-4092-b33c-410568061caf"
      },
      "execution_count": null,
      "outputs": [
        {
          "output_type": "execute_result",
          "data": {
            "text/plain": [
              "0.504"
            ]
          },
          "metadata": {},
          "execution_count": 17
        }
      ]
    },
    {
      "cell_type": "markdown",
      "source": [
        "As we see when using Naive Bayes for classification , we get an accuracy acore of 0.504 which is not very good. We can try using other Multi-classification algorithms for the given data and then compare accuracy scores from other algorithms and then compare to see which algorithm would be best for multi- class classification of the given dataset. "
      ],
      "metadata": {
        "id": "2cNzewOkYQ8W"
      }
    },
    {
      "cell_type": "markdown",
      "metadata": {
        "pycharm": {
          "name": "#%% md\n"
        },
        "id": "MIPxfmMJa9qg"
      },
      "source": [
        "\n",
        "### Q 3.2 Build a Method for Determining a Hierarchy\n",
        "\n",
        "#### Overview\n",
        "\n",
        "This exercise is a representation of the challenges we face with our growing topic taxonomy. You are asked to create a method to automatically determine a hierarchy for different products using the “option_2.csv” dataset. There is a list of 5K reviews for several product categories. In this dataset the hierarchy is already provided (each review maps to the child category “Cat1”, and then to the parent category “Cat2”). Separate each review into “Cat1” categories and then given this child category, determine a method to predict the parent category.\n",
        "\n",
        "#### Hint\n",
        "A possible approach would be to take the data from each “Cat1” category and create clusters that closely map to each “Cat2” categories.\n",
        "\n",
        "#### Data\n",
        "“Text” – A review given by a customer for a purchased item\n",
        "\n",
        "“Cat1” – A low level child category for each review\n",
        "\n",
        "“Cat2” – A high level parent category for each review\n"
      ]
    },
    {
      "cell_type": "code",
      "source": [
        ""
      ],
      "metadata": {
        "id": "PrdJwV7Ho5rr"
      },
      "execution_count": null,
      "outputs": []
    }
  ],
  "metadata": {
    "kernelspec": {
      "display_name": "Python [conda env:bombora-datascience-exam]",
      "language": "python",
      "name": "conda-env-bombora-datascience-exam-py"
    },
    "language_info": {
      "codemirror_mode": {
        "name": "ipython",
        "version": 3
      },
      "file_extension": ".py",
      "mimetype": "text/x-python",
      "name": "python",
      "nbconvert_exporter": "python",
      "pygments_lexer": "ipython3",
      "version": "3.5.2"
    },
    "colab": {
      "name": " ds-interview-exam.ipynb",
      "provenance": [],
      "include_colab_link": true
    }
  },
  "nbformat": 4,
  "nbformat_minor": 0
}
